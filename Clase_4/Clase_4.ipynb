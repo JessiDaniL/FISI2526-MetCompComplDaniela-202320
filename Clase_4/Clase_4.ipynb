{
 "cells": [
  {
   "cell_type": "code",
   "execution_count": null,
   "metadata": {},
   "outputs": [],
   "source": [
    "import funciones as f\n",
    "import numpy as np\n",
    "import matplotlib.pyplot as plt\n",
    "\n",
    "A = 2\n",
    "k = 800\n",
    "m = 2\n",
    "\n",
    "T = f.periodo()\n",
    "\n",
    "t = np.linspace(-T/2,T/2)\n",
    "\n",
    "h = t[1]-t[0]\n",
    "\n",
    "x = f.posicion(A,k,m,t)\n",
    "\n",
    "plt.figure()\n",
    "plt.plot(t,x)\n",
    "plt.axhline(y=0, color = \"r\")\n",
    "\n",
    "plt.title(\"Gráfica de posición vs Tiempo\")\n",
    "plt.xlabel(\"Tiempo\")\n",
    "plt.ylabel(\"Posición\")\n",
    "plt.show()"
   ]
  }
 ],
 "metadata": {
  "language_info": {
   "name": "python"
  },
  "orig_nbformat": 4
 },
 "nbformat": 4,
 "nbformat_minor": 2
}
